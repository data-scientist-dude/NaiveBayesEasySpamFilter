{
 "cells": [
  {
   "cell_type": "markdown",
   "metadata": {},
   "source": [
    "# Naive Bayes keeping it simple, sweetheart"
   ]
  },
  {
   "cell_type": "markdown",
   "metadata": {},
   "source": [
    "If we use sklearn.naive_bayes to train a spam classifier it can be fairly uncomplicated with Python.\n",
    "As usual most of the time involved is preparing the data.  Additionally, most of the code is loading the training data \n",
    "into a pandas DataFrame:"
   ]
  },
  {
   "cell_type": "code",
   "execution_count": 25,
   "metadata": {},
   "outputs": [
    {
     "name": "stderr",
     "output_type": "stream",
     "text": [
      "C:\\Users\\John\\Anaconda3\\lib\\site-packages\\pandas\\core\\frame.py:6211: FutureWarning: Sorting because non-concatenation axis is not aligned. A future version\n",
      "of pandas will change to not sort by default.\n",
      "\n",
      "To accept the future behavior, pass 'sort=False'.\n",
      "\n",
      "To retain the current behavior and silence the warning, pass 'sort=True'.\n",
      "\n",
      "  sort=sort)\n"
     ]
    }
   ],
   "source": [
    "import os\n",
    "import io\n",
    "import numpy\n",
    "from pandas import DataFrame\n",
    "from sklearn.feature_extraction.text import CountVectorizer\n",
    "from sklearn.naive_bayes import MultinomialNB\n",
    "\n",
    "def readFiles(path):\n",
    "    for root, dirnames, filenames in os.walk(path):\n",
    "        for filename in filenames:\n",
    "            path = os.path.join(root, filename)\n",
    "\n",
    "            inBody = False\n",
    "            lines = []\n",
    "            f = io.open(path, 'r', encoding='latin1')\n",
    "            for line in f:\n",
    "                if inBody:\n",
    "                    lines.append(line)\n",
    "                elif line == '\\n':\n",
    "                    inBody = True\n",
    "            f.close()\n",
    "            message = '\\n'.join(lines)\n",
    "            yield path, message\n",
    "\n",
    "\n",
    "def dataFrameFromDirectory(path, classification):\n",
    "    rows = []\n",
    "    index = []\n",
    "    for filename, message in readFiles(path):\n",
    "        rows.append({'message': message, 'class': classification})\n",
    "        index.append(filename)\n",
    "\n",
    "    return DataFrame(rows, index=index)\n",
    "\n",
    "data = DataFrame({'message': [], 'class': []})\n",
    "\n",
    "data = data.append(dataFrameFromDirectory('c:/Users/John/Desktop/ML_coding/emails/spam', 'spam'))\n",
    "data = data.append(dataFrameFromDirectory('c:/Users/John/Desktop/ML_coding/emails/ham', 'ham'))\n"
   ]
  },
  {
   "cell_type": "markdown",
   "metadata": {},
   "source": [
    "Let's have a look at that DataFrame:"
   ]
  },
  {
   "cell_type": "code",
   "execution_count": 27,
   "metadata": {},
   "outputs": [
    {
     "data": {
      "text/html": [
       "<div>\n",
       "<style scoped>\n",
       "    .dataframe tbody tr th:only-of-type {\n",
       "        vertical-align: middle;\n",
       "    }\n",
       "\n",
       "    .dataframe tbody tr th {\n",
       "        vertical-align: top;\n",
       "    }\n",
       "\n",
       "    .dataframe thead th {\n",
       "        text-align: right;\n",
       "    }\n",
       "</style>\n",
       "<table border=\"1\" class=\"dataframe\">\n",
       "  <thead>\n",
       "    <tr style=\"text-align: right;\">\n",
       "      <th></th>\n",
       "      <th>class</th>\n",
       "      <th>message</th>\n",
       "    </tr>\n",
       "  </thead>\n",
       "  <tbody>\n",
       "    <tr>\n",
       "      <th>c:/Users/John/Desktop/ML_coding/emails/spam\\00001.7848dde101aa985090474a91ec93fcf0</th>\n",
       "      <td>spam</td>\n",
       "      <td>&lt;!DOCTYPE HTML PUBLIC \"-//W3C//DTD HTML 4.0 Tr...</td>\n",
       "    </tr>\n",
       "    <tr>\n",
       "      <th>c:/Users/John/Desktop/ML_coding/emails/spam\\00002.d94f1b97e48ed3b553b3508d116e6a09</th>\n",
       "      <td>spam</td>\n",
       "      <td>1) Fight The Risk of Cancer!\\n\\nhttp://www.adc...</td>\n",
       "    </tr>\n",
       "    <tr>\n",
       "      <th>c:/Users/John/Desktop/ML_coding/emails/spam\\00003.2ee33bc6eacdb11f38d052c44819ba6c</th>\n",
       "      <td>spam</td>\n",
       "      <td>1) Fight The Risk of Cancer!\\n\\nhttp://www.adc...</td>\n",
       "    </tr>\n",
       "    <tr>\n",
       "      <th>c:/Users/John/Desktop/ML_coding/emails/spam\\00004.eac8de8d759b7e74154f142194282724</th>\n",
       "      <td>spam</td>\n",
       "      <td>##############################################...</td>\n",
       "    </tr>\n",
       "    <tr>\n",
       "      <th>c:/Users/John/Desktop/ML_coding/emails/spam\\00005.57696a39d7d84318ce497886896bf90d</th>\n",
       "      <td>spam</td>\n",
       "      <td>I thought you might like these:\\n\\n1) Slim Dow...</td>\n",
       "    </tr>\n",
       "    <tr>\n",
       "      <th>c:/Users/John/Desktop/ML_coding/emails/spam\\00006.5ab5620d3d7c6c0db76234556a16f6c1</th>\n",
       "      <td>spam</td>\n",
       "      <td>A POWERHOUSE GIFTING PROGRAM You Don't Want To...</td>\n",
       "    </tr>\n",
       "    <tr>\n",
       "      <th>c:/Users/John/Desktop/ML_coding/emails/spam\\00007.d8521faf753ff9ee989122f6816f87d7</th>\n",
       "      <td>spam</td>\n",
       "      <td>Help wanted.  We are a 14 year old fortune 500...</td>\n",
       "    </tr>\n",
       "    <tr>\n",
       "      <th>c:/Users/John/Desktop/ML_coding/emails/spam\\00008.dfd941deb10f5eed78b1594b131c9266</th>\n",
       "      <td>spam</td>\n",
       "      <td>&lt;html&gt;\\n\\n&lt;head&gt;\\n\\n&lt;title&gt;ReliaQuote - Save U...</td>\n",
       "    </tr>\n",
       "    <tr>\n",
       "      <th>c:/Users/John/Desktop/ML_coding/emails/spam\\00009.027bf6e0b0c4ab34db3ce0ea4bf2edab</th>\n",
       "      <td>spam</td>\n",
       "      <td>TIRED OF THE BULL OUT THERE?\\n\\nWant To Stop L...</td>\n",
       "    </tr>\n",
       "    <tr>\n",
       "      <th>c:/Users/John/Desktop/ML_coding/emails/spam\\00010.445affef4c70feec58f9198cfbc22997</th>\n",
       "      <td>spam</td>\n",
       "      <td>Dear ricardo1 ,\\n\\n\\n\\n&lt;html&gt;\\n\\n&lt;body&gt;\\n\\n&lt;ce...</td>\n",
       "    </tr>\n",
       "  </tbody>\n",
       "</table>\n",
       "</div>"
      ],
      "text/plain": [
       "                                                   class  \\\n",
       "c:/Users/John/Desktop/ML_coding/emails/spam\\000...  spam   \n",
       "c:/Users/John/Desktop/ML_coding/emails/spam\\000...  spam   \n",
       "c:/Users/John/Desktop/ML_coding/emails/spam\\000...  spam   \n",
       "c:/Users/John/Desktop/ML_coding/emails/spam\\000...  spam   \n",
       "c:/Users/John/Desktop/ML_coding/emails/spam\\000...  spam   \n",
       "c:/Users/John/Desktop/ML_coding/emails/spam\\000...  spam   \n",
       "c:/Users/John/Desktop/ML_coding/emails/spam\\000...  spam   \n",
       "c:/Users/John/Desktop/ML_coding/emails/spam\\000...  spam   \n",
       "c:/Users/John/Desktop/ML_coding/emails/spam\\000...  spam   \n",
       "c:/Users/John/Desktop/ML_coding/emails/spam\\000...  spam   \n",
       "\n",
       "                                                                                              message  \n",
       "c:/Users/John/Desktop/ML_coding/emails/spam\\000...  <!DOCTYPE HTML PUBLIC \"-//W3C//DTD HTML 4.0 Tr...  \n",
       "c:/Users/John/Desktop/ML_coding/emails/spam\\000...  1) Fight The Risk of Cancer!\\n\\nhttp://www.adc...  \n",
       "c:/Users/John/Desktop/ML_coding/emails/spam\\000...  1) Fight The Risk of Cancer!\\n\\nhttp://www.adc...  \n",
       "c:/Users/John/Desktop/ML_coding/emails/spam\\000...  ##############################################...  \n",
       "c:/Users/John/Desktop/ML_coding/emails/spam\\000...  I thought you might like these:\\n\\n1) Slim Dow...  \n",
       "c:/Users/John/Desktop/ML_coding/emails/spam\\000...  A POWERHOUSE GIFTING PROGRAM You Don't Want To...  \n",
       "c:/Users/John/Desktop/ML_coding/emails/spam\\000...  Help wanted.  We are a 14 year old fortune 500...  \n",
       "c:/Users/John/Desktop/ML_coding/emails/spam\\000...  <html>\\n\\n<head>\\n\\n<title>ReliaQuote - Save U...  \n",
       "c:/Users/John/Desktop/ML_coding/emails/spam\\000...  TIRED OF THE BULL OUT THERE?\\n\\nWant To Stop L...  \n",
       "c:/Users/John/Desktop/ML_coding/emails/spam\\000...  Dear ricardo1 ,\\n\\n\\n\\n<html>\\n\\n<body>\\n\\n<ce...  "
      ]
     },
     "execution_count": 27,
     "metadata": {},
     "output_type": "execute_result"
    }
   ],
   "source": [
    "data.head(10)\n"
   ]
  },
  {
   "cell_type": "markdown",
   "metadata": {},
   "source": [
    "Use the CountVectorizer to split up each message into its own list of words, and run that through a MultinomialNB classifier. Call fit() and now there is a trained spam filter.  How could you integrate that into an e-mail service that doesn't already have one?  Can you use this knowledge to improve a spam filter already in existence?"
   ]
  },
  {
   "cell_type": "code",
   "execution_count": 18,
   "metadata": {},
   "outputs": [
    {
     "data": {
      "text/plain": [
       "MultinomialNB(alpha=1.0, class_prior=None, fit_prior=True)"
      ]
     },
     "execution_count": 18,
     "metadata": {},
     "output_type": "execute_result"
    }
   ],
   "source": [
    "vectorizer = CountVectorizer()\n",
    "counts = vectorizer.fit_transform(data['message'].values)\n",
    "\n",
    "classifier = MultinomialNB()\n",
    "targets = data['class'].values\n",
    "classifier.fit(counts, targets)"
   ]
  },
  {
   "cell_type": "markdown",
   "metadata": {},
   "source": [
    "Now you try it out and see how well it works:"
   ]
  },
  {
   "cell_type": "code",
   "execution_count": 31,
   "metadata": {},
   "outputs": [
    {
     "data": {
      "text/plain": [
       "array(['spam', 'ham'], dtype='<U4')"
      ]
     },
     "execution_count": 31,
     "metadata": {},
     "output_type": "execute_result"
    }
   ],
   "source": [
    "examples = ['FREE Viagra free samples!!!',\"Hey Daria, are we still meeting for lunch?\"]\n",
    "example_counts = vectorizer.transform(examples)\n",
    "predictions = classifier.predict(example_counts)\n",
    "predictions"
   ]
  },
  {
   "cell_type": "markdown",
   "metadata": {},
   "source": [
    "## Activity"
   ]
  },
  {
   "cell_type": "markdown",
   "metadata": {},
   "source": [
    "The data set is small, therefore the spam classifier isn't really good. \n",
    "I tried a few different statements such as:\n",
    "\"Russian Girls want to talk to you now FREE service!\"\n",
    "\"FREE ways to make lots of money from home!!!\"\n",
    "with varying levels of success.  Usually it was false negatives.\n",
    "If you take the path directory:\n",
    "c:/Users/John/Desktop/ML_coding/emails/spam\n",
    "and change it to your own directory, where you put the associated fake e-mails, you can build your own.\n",
    "\n",
    "Next I am applying train/test to this spam classifier so I can see how it predicts certain subsets."
   ]
  },
  {
   "cell_type": "code",
   "execution_count": null,
   "metadata": {},
   "outputs": [],
   "source": []
  }
 ],
 "metadata": {
  "kernelspec": {
   "display_name": "Python 3",
   "language": "python",
   "name": "python3"
  },
  "language_info": {
   "codemirror_mode": {
    "name": "ipython",
    "version": 3
   },
   "file_extension": ".py",
   "mimetype": "text/x-python",
   "name": "python",
   "nbconvert_exporter": "python",
   "pygments_lexer": "ipython3",
   "version": "3.7.0"
  }
 },
 "nbformat": 4,
 "nbformat_minor": 1
}
